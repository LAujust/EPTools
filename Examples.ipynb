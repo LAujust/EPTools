{
 "cells": [
  {
   "cell_type": "markdown",
   "metadata": {},
   "source": [
    "# Examples for EPTools\n",
    "@copyright by Runduo Liang (Aujust)"
   ]
  },
  {
   "cell_type": "markdown",
   "metadata": {},
   "source": [
    "## Crossmatch"
   ]
  },
  {
   "cell_type": "code",
   "execution_count": 2,
   "metadata": {},
   "outputs": [],
   "source": [
    "import sys\n",
    "sys.path.append('/Users/liangrunduo/heasoft-6.34/aarch64-apple-darwin23.5.0/lib/python')\n",
    "import EPTools\n",
    "from astropy.coordinates import SkyCoord\n",
    "from EPTools.utils import *\n",
    "import numpy as np\n",
    "from astropy.cosmology import Planck18\n",
    "import matplotlib.pyplot as plt\n",
    "from astroquery.vizier import Vizier, VizierClass\n",
    "from ligo.skymap.postprocess import crossmatch\n",
    "from astropy.table import Table\n",
    "from ligo.skymap.io.fits import read_sky_map\n",
    "import re\n",
    "import pickle\n",
    "#!source ~/.bashrc heasoft\n",
    "#from xspec import *\n",
    "#from astropy.config import create_config_file\n",
    "#from astropy.config import get_config_dir\n",
    "#create_config_file('astropy')\n",
    "#get_config_dir()\n"
   ]
  },
  {
   "cell_type": "code",
   "execution_count": 6,
   "metadata": {},
   "outputs": [],
   "source": [
    "plan_root = '/Volumes/T7/Shared_Files/EP/EP-TA-data/S250206dm/'\n",
    "wxt_obs_name = 'wxt_obs_list.csv'\n",
    "fxt_obs_name = 'fxt_obs_list.csv'\n",
    "\n",
    "wxt_plan = EPTools.make_EPPlan(plan_root+wxt_obs_name,instrument='WXT')\n",
    "fxt_plan = EPTools.make_EPPlan(plan_root+fxt_obs_name,instrument='FXT')"
   ]
  },
  {
   "cell_type": "code",
   "execution_count": 7,
   "metadata": {},
   "outputs": [],
   "source": [
    "with open(plan_root+'S250206dm_WXT_plan.pkl','wb') as handle:\n",
    "    pickle.dump(wxt_plan,handle,protocol=pickle.HIGHEST_PROTOCOL)\n",
    "    handle.close()\n",
    "with open(plan_root+'S250206dm_FXT_plan.pkl','wb') as handle:\n",
    "    pickle.dump(fxt_plan,handle,protocol=pickle.HIGHEST_PROTOCOL)\n",
    "    handle.close()"
   ]
  },
  {
   "cell_type": "markdown",
   "metadata": {},
   "source": [
    "### Fit WXT & FXT sensitivity vs. expo time"
   ]
  },
  {
   "cell_type": "code",
   "execution_count": null,
   "metadata": {},
   "outputs": [
    {
     "name": "stdout",
     "output_type": "stream",
     "text": [
      "[5.49101782e-11 8.12917739e-01]\n"
     ]
    },
    {
     "data": {
      "image/png": "[encoded data removed]",
      "text/plain": [
       "<Figure size 640x480 with 1 Axes>"
      ]
     },
     "metadata": {},
     "output_type": "display_data"
    }
   ],
   "source": [
    "from scipy.optimize import curve_fit\n",
    "#WXT\n",
    "#xdata = np.array([10,100,1000])\n",
    "#ydata = np.array([9e-10,1.3e-10,2.6e-11])\n",
    "\n",
    "#FXT\n",
    "xdata = np.array([1e3,1e4,1e5,1e6])\n",
    "ydata = np.array([2e-13,3e-14,7e-15,1.6e-15])\n",
    "\n",
    "\n",
    "def pw(x, norm,p):\n",
    "    return norm * x**-p\n",
    "\n",
    "popt, pcov = curve_fit(pw, xdata, ydata)\n",
    "print(popt)\n",
    "plt.plot(xdata, ydata, 'b-', label='data')\n",
    "plt.plot(xdata, pw(xdata, *popt), 'g--')\n",
    "plt.xscale('log')\n",
    "plt.yscale('log')\n"
   ]
  },
  {
   "cell_type": "markdown",
   "metadata": {},
   "source": [
    "### Get Catalogue"
   ]
  },
  {
   "cell_type": "code",
   "execution_count": 5,
   "metadata": {},
   "outputs": [],
   "source": [
    "'Convert milliquas into astropy.table'\n",
    "#with open('/Users/liangrunduo/EP/Catalogue/milliquas.txt') as f:\n",
    "#    data = f.read()\n",
    "table = Table.read('/Users/liangrunduo/Desktop/Aujust/NAOC/EP/Crossmatch/catalogs/Milliquas.fits',format='fits')\n",
    "table.write('/Users/liangrunduo/Desktop/Aujust/NAOC/EP/Crossmatch/catalogs/Milliquas.csv', format=\"csv\", overwrite=True)"
   ]
  },
  {
   "cell_type": "code",
   "execution_count": 7,
   "metadata": {},
   "outputs": [],
   "source": [
    "'Get ALLWISE AGN Catalogue via Vizier'\n",
    "catalog_id = \"J/ApJS/221/12\"  #ALLWISE AGN Catalogue\n",
    "#catalog_id = \"IX/57/xmm4xmm\"  #XMM-Newton Serendipitous Source Catalog\n",
    "vizier = VizierClass(\n",
    "    row_limit=-1,\n",
    "    columns=['recno', 'WISEA', '_RAJ2000', '_DEJ2000', 'W1-W2','gmag','z','f_z','HMQ'])\n",
    "cat, = vizier.get_catalogs(catalog_id)\n",
    "cat.sort('recno')  # sort catalog so that doctest output is stable\n",
    "del cat['recno']\n",
    "dist = Planck18.luminosity_distance(cat['z'])\n",
    "cat.write('/Users/liangrunduo/Desktop/Aujust/NAOC/EP/Crossmatch/catalogs/WISE_AGN.csv', format=\"csv\", overwrite=True)\n",
    "#coordinates = SkyCoord(cat['_RAJ2000'], cat['_DEJ2000'], dist)\n",
    "coordinates = SkyCoord(cat['_RAJ2000'], cat['_DEJ2000'])"
   ]
  },
  {
   "cell_type": "markdown",
   "metadata": {},
   "source": [
    "### Crossmatch with GW"
   ]
  },
  {
   "cell_type": "code",
   "execution_count": null,
   "metadata": {},
   "outputs": [],
   "source": [
    "# Load the CSV file into an Astropy Table\n",
    "wise_agn_table = Table.read(\"/Users/liangrunduo/Desktop/Aujust/NAOC/EP/Crossmatch/catalogs/WISE_AGN.csv\", format=\"csv\")\n",
    "milliquas_table = Table.read(\"/Users/liangrunduo/Desktop/Aujust/NAOC/EP/Crossmatch/catalogs/Milliquas.csv\", format=\"csv\")"
   ]
  },
  {
   "cell_type": "code",
   "execution_count": null,
   "metadata": {},
   "outputs": [
    {
     "name": "stdout",
     "output_type": "stream",
     "text": [
      "     RA        DEC          NAME       ...         LOBE1          LOBE2\n",
      "----------- --------- ---------------- ... ---------------------- -----\n",
      "346.9886014 40.277528 PBC J2307.9+4015 ... XMMSL J230757.0+401643    --\n",
      "  _RAJ2000   _DEJ2000         WISEA        W1-W2 gmag   z   f_z       HMQ       \n",
      "----------- ---------- ------------------- ----- ---- ----- --- ----------------\n",
      "346.9885791 40.2775306 J230757.25+401639.1  0.79   -- 0.073   s PBC J2307.9+4015\n"
     ]
    }
   ],
   "source": [
    "skymap = read_sky_map('https://gracedb.ligo.org/api/superevents/S241102br/files/bayestar.multiorder.fits',moc=True)\n",
    "#skymap = read_sky_map('/Users/liangrunduo/EP/GW/S241102br_skymap.fits',moc=True)\n",
    "milliquas_table_valid = milliquas_table[milliquas_table['Z']>0]\n",
    "dist = Planck18.luminosity_distance(milliquas_table_valid['Z'])\n",
    "coordinates = SkyCoord(milliquas_table_valid['RA']*u.deg, milliquas_table_valid['DEC']*u.deg, dist)\n",
    "result = crossmatch(skymap, coordinates)\n",
    "print(milliquas_table_valid[result.searched_prob_vol < 0.9])\n",
    "\n",
    "wise_agn_table_valid = wise_agn_table[wise_agn_table['z']>0]\n",
    "dist = Planck18.luminosity_distance(wise_agn_table_valid['z'])\n",
    "coordinates = SkyCoord(wise_agn_table_valid['_RAJ2000']*u.deg, wise_agn_table_valid['_DEJ2000']*u.deg, dist)\n",
    "result = crossmatch(skymap, coordinates)\n",
    "print(wise_agn_table_valid[result.searched_prob_vol < 0.9])"
   ]
  },
  {
   "cell_type": "code",
   "execution_count": null,
   "metadata": {},
   "outputs": [
    {
     "name": "stdout",
     "output_type": "stream",
     "text": [
      " _RAJ2000   _DEJ2000         WISEA        W1-W2 gmag  z  f_z HMQ\n",
      "---------- ---------- ------------------- ----- ---- --- --- ---\n",
      "15.3030541 -2.1704141 J010112.73-021013.4  1.71   --  --  --  --\n"
     ]
    }
   ],
   "source": [
    "url = 'https://gracedb.ligo.org/api/superevents/S190814bv/files/bayestar.multiorder.fits'\n",
    "skymap = read_sky_map(url, moc=True)\n",
    "result = crossmatch(skymap, coordinates)\n",
    "print(wise_agn_table[result.searched_prob_vol < 0.9])"
   ]
  },
  {
   "cell_type": "code",
   "execution_count": null,
   "metadata": {},
   "outputs": [
    {
     "name": "stdout",
     "output_type": "stream",
     "text": [
      "1.4462399941120547e+32\n",
      "5.7218389587855725e+47\n"
     ]
    }
   ],
   "source": [
    "d = 1000/5.5027\n",
    "f = 3.66e-11\n",
    "print(flx2lum(f,d))\n",
    "\n",
    "f = 1e-11\n",
    "d = Planck18.luminosity_distance(2.597000).value * 1e6\n",
    "print(flx2lum(f,d))\n",
    "\n"
   ]
  },
  {
   "cell_type": "markdown",
   "metadata": {},
   "source": [
    "## Plot SED of EP and multiwavelength data"
   ]
  },
  {
   "cell_type": "markdown",
   "metadata": {},
   "source": [
    "## SBO"
   ]
  }
 ],
 "metadata": {
  "kernelspec": {
   "display_name": "base",
   "language": "python",
   "name": "python3"
  },
  "language_info": {
   "codemirror_mode": {
    "name": "ipython",
    "version": 3
   },
   "file_extension": ".py",
   "mimetype": "text/x-python",
   "name": "python",
   "nbconvert_exporter": "python",
   "pygments_lexer": "ipython3",
   "version": "3.12.5"
  }
 },
 "nbformat": 4,
 "nbformat_minor": 2
}
