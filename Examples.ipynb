{
 "cells": [
  {
   "cell_type": "markdown",
   "metadata": {},
   "source": [
    "# Examples for EPTools\n",
    "@copyright by Runduo Liang (Aujust)"
   ]
  },
  {
   "cell_type": "code",
   "execution_count": 4,
   "metadata": {},
   "outputs": [],
   "source": [
    "import os, sys\n",
    "sys.path.append('/Users/liangrunduo/heasoft-6.34/aarch64-apple-darwin23.5.0/lib/python')\n",
    "sys.path.append('/Users/liangrunduo/EP/Tools/EPTools') #Air\n",
    "sys.path.append('/Users/liangrunduo/Desktop/Aujust/NAOC/EP/EPTools') #Pro\n",
    "from astropy.cosmology import Planck18\n",
    "from astropy.coordinates import SkyCoord\n",
    "import numpy as np\n",
    "import pandas as pd\n",
    "import matplotlib.pyplot as plt\n",
    "from ligo.skymap.io.fits import read_sky_map, write_sky_map\n",
    "import ligo.skymap.postprocess as postprocess\n",
    "from astropy.io.fits import writeto\n",
    "import xspec as xs\n",
    "import EPTools"
   ]
  },
  {
   "cell_type": "code",
   "execution_count": 8,
   "metadata": {},
   "outputs": [
    {
     "data": {
      "text/plain": [
       "1.5817233789438092e+48"
      ]
     },
     "execution_count": 8,
     "metadata": {},
     "output_type": "execute_result"
    }
   ],
   "source": [
    "EPTools.flx2lum(1e-9,Planck18.luminosity_distance(0.6).value*1e6)"
   ]
  },
  {
   "cell_type": "markdown",
   "metadata": {},
   "source": [
    "## Crossmatch"
   ]
  },
  {
   "cell_type": "code",
   "execution_count": 2,
   "metadata": {},
   "outputs": [],
   "source": [
    "import sys\n",
    "sys.path.append('/Users/liangrunduo/heasoft-6.34/aarch64-apple-darwin23.5.0/lib/python')\n",
    "import EPTools\n",
    "from astropy.coordinates import SkyCoord\n",
    "from EPTools.utils import *\n",
    "import numpy as np\n",
    "from astropy.cosmology import Planck18\n",
    "import matplotlib.pyplot as plt\n",
    "from astroquery.vizier import Vizier, VizierClass\n",
    "from ligo.skymap.postprocess import crossmatch\n",
    "from astropy.table import Table\n",
    "from ligo.skymap.io.fits import read_sky_map\n",
    "import re\n",
    "import pickle\n",
    "#!source ~/.bashrc heasoft\n",
    "#from xspec import *\n",
    "#from astropy.config import create_config_file\n",
    "#from astropy.config import get_config_dir\n",
    "#create_config_file('astropy')\n",
    "#get_config_dir()\n"
   ]
  },
  {
   "cell_type": "code",
   "execution_count": 4,
   "metadata": {},
   "outputs": [],
   "source": [
    "plan_root = '/Volumes/T7/Shared_Files/EP/EP-TA-data/S250206dm/'\n",
    "wxt_obs_name = 'wxt_obs_list.csv'\n",
    "fxt_obs_name = 'fxt_obs_list.csv'\n",
    "\n",
    "wxt_plan = EPTools.make_EPPlan(plan_root+wxt_obs_name,instrument='WXT')\n",
    "fxt_plan = EPTools.make_EPPlan(plan_root+fxt_obs_name,instrument='FXT')"
   ]
  },
  {
   "cell_type": "code",
   "execution_count": 5,
   "metadata": {},
   "outputs": [],
   "source": [
    "with open(plan_root+'S250206dm_WXT_plan.pkl','wb') as handle:\n",
    "    pickle.dump(wxt_plan,handle,protocol=pickle.HIGHEST_PROTOCOL)\n",
    "    handle.close()\n",
    "with open(plan_root+'S250206dm_FXT_plan.pkl','wb') as handle:\n",
    "    pickle.dump(fxt_plan,handle,protocol=pickle.HIGHEST_PROTOCOL)\n",
    "    handle.close()"
   ]
  },
  {
   "cell_type": "markdown",
   "metadata": {},
   "source": [
    "### Fit WXT & FXT sensitivity vs. expo time"
   ]
  },
  {
   "cell_type": "code",
   "execution_count": null,
   "metadata": {},
   "outputs": [
    {
     "name": "stdout",
     "output_type": "stream",
     "text": [
      "[5.49101782e-11 8.12917739e-01]\n"
     ]
    },
    {
     "data": {
      "image/png": "[encoded data removed]",
      "text/plain": [
       "<Figure size 640x480 with 1 Axes>"
      ]
     },
     "metadata": {},
     "output_type": "display_data"
    }
   ],
   "source": [
    "from scipy.optimize import curve_fit\n",
    "#WXT\n",
    "#xdata = np.array([10,100,1000])\n",
    "#ydata = np.array([9e-10,1.3e-10,2.6e-11])\n",
    "\n",
    "#FXT\n",
    "xdata = np.array([1e3,1e4,1e5,1e6])\n",
    "ydata = np.array([2e-13,3e-14,7e-15,1.6e-15])\n",
    "\n",
    "\n",
    "def pw(x, norm,p):\n",
    "    return norm * x**-p\n",
    "\n",
    "popt, pcov = curve_fit(pw, xdata, ydata)\n",
    "print(popt)\n",
    "plt.plot(xdata, ydata, 'b-', label='data')\n",
    "plt.plot(xdata, pw(xdata, *popt), 'g--')\n",
    "plt.xscale('log')\n",
    "plt.yscale('log')\n"
   ]
  },
  {
   "cell_type": "markdown",
   "metadata": {},
   "source": [
    "### Get Catalogue"
   ]
  },
  {
   "cell_type": "code",
   "execution_count": 5,
   "metadata": {},
   "outputs": [],
   "source": [
    "'Convert milliquas into astropy.table'\n",
    "#with open('/Users/liangrunduo/EP/Catalogue/milliquas.txt') as f:\n",
    "#    data = f.read()\n",
    "table = Table.read('/Users/liangrunduo/Desktop/Aujust/NAOC/EP/Crossmatch/catalogs/Milliquas.fits',format='fits')\n",
    "table.write('/Users/liangrunduo/Desktop/Aujust/NAOC/EP/Crossmatch/catalogs/Milliquas.csv', format=\"csv\", overwrite=True)"
   ]
  },
  {
   "cell_type": "code",
   "execution_count": 7,
   "metadata": {},
   "outputs": [],
   "source": [
    "'Get ALLWISE AGN Catalogue via Vizier'\n",
    "catalog_id = \"J/ApJS/221/12\"  #ALLWISE AGN Catalogue\n",
    "#catalog_id = \"IX/57/xmm4xmm\"  #XMM-Newton Serendipitous Source Catalog\n",
    "vizier = VizierClass(\n",
    "    row_limit=-1,\n",
    "    columns=['recno', 'WISEA', '_RAJ2000', '_DEJ2000', 'W1-W2','gmag','z','f_z','HMQ'])\n",
    "cat, = vizier.get_catalogs(catalog_id)\n",
    "cat.sort('recno')  # sort catalog so that doctest output is stable\n",
    "del cat['recno']\n",
    "dist = Planck18.luminosity_distance(cat['z'])\n",
    "cat.write('/Users/liangrunduo/Desktop/Aujust/NAOC/EP/Crossmatch/catalogs/WISE_AGN.csv', format=\"csv\", overwrite=True)\n",
    "#coordinates = SkyCoord(cat['_RAJ2000'], cat['_DEJ2000'], dist)\n",
    "coordinates = SkyCoord(cat['_RAJ2000'], cat['_DEJ2000'])"
   ]
  },
  {
   "cell_type": "markdown",
   "metadata": {},
   "source": [
    "### Crossmatch with GW"
   ]
  },
  {
   "cell_type": "code",
   "execution_count": 3,
   "metadata": {},
   "outputs": [],
   "source": [
    "# Load the CSV file into an Astropy Table\n",
    "wise_agn_table = Table.read(\"/Users/liangrunduo/Desktop/Aujust/NAOC/EP/Crossmatch/catalogs/WISE_AGN.csv\", format=\"csv\")\n",
    "milliquas_table = Table.read(\"/Users/liangrunduo/Desktop/Aujust/NAOC/EP/Crossmatch/catalogs/Milliquas.csv\", format=\"csv\")"
   ]
  },
  {
   "cell_type": "code",
   "execution_count": null,
   "metadata": {},
   "outputs": [
    {
     "name": "stdout",
     "output_type": "stream",
     "text": [
      "     RA        DEC          NAME       ...         LOBE1          LOBE2\n",
      "----------- --------- ---------------- ... ---------------------- -----\n",
      "346.9886014 40.277528 PBC J2307.9+4015 ... XMMSL J230757.0+401643    --\n",
      "  _RAJ2000   _DEJ2000         WISEA        W1-W2 gmag   z   f_z       HMQ       \n",
      "----------- ---------- ------------------- ----- ---- ----- --- ----------------\n",
      "346.9885791 40.2775306 J230757.25+401639.1  0.79   -- 0.073   s PBC J2307.9+4015\n"
     ]
    }
   ],
   "source": [
    "skymap = read_sky_map('https://gracedb.ligo.org/api/superevents/S241102br/files/bayestar.multiorder.fits',moc=True)\n",
    "#skymap = read_sky_map('/Users/liangrunduo/EP/GW/S241102br_skymap.fits',moc=True)\n",
    "milliquas_table_valid = milliquas_table[milliquas_table['Z']>0]\n",
    "dist = Planck18.luminosity_distance(milliquas_table_valid['Z'])\n",
    "coordinates = SkyCoord(milliquas_table_valid['RA']*u.deg, milliquas_table_valid['DEC']*u.deg, dist)\n",
    "result = crossmatch(skymap, coordinates)\n",
    "print(milliquas_table_valid[result.searched_prob_vol < 0.9])\n",
    "\n",
    "wise_agn_table_valid = wise_agn_table[wise_agn_table['z']>0]\n",
    "dist = Planck18.luminosity_distance(wise_agn_table_valid['z'])\n",
    "coordinates = SkyCoord(wise_agn_table_valid['_RAJ2000']*u.deg, wise_agn_table_valid['_DEJ2000']*u.deg, dist)\n",
    "result = crossmatch(skymap, coordinates)\n",
    "print(wise_agn_table_valid[result.searched_prob_vol < 0.9])"
   ]
  },
  {
   "cell_type": "code",
   "execution_count": null,
   "metadata": {},
   "outputs": [
    {
     "name": "stdout",
     "output_type": "stream",
     "text": [
      " _RAJ2000   _DEJ2000         WISEA        W1-W2 gmag  z  f_z HMQ\n",
      "---------- ---------- ------------------- ----- ---- --- --- ---\n",
      "15.3030541 -2.1704141 J010112.73-021013.4  1.71   --  --  --  --\n"
     ]
    }
   ],
   "source": [
    "url = 'https://gracedb.ligo.org/api/superevents/S190814bv/files/bayestar.multiorder.fits'\n",
    "skymap = read_sky_map(url, moc=True)\n",
    "result = crossmatch(skymap, coordinates)\n",
    "print(wise_agn_table[result.searched_prob_vol < 0.9])"
   ]
  },
  {
   "cell_type": "code",
   "execution_count": null,
   "metadata": {},
   "outputs": [
    {
     "name": "stdout",
     "output_type": "stream",
     "text": [
      "1.4462399941120547e+32\n",
      "5.7218389587855725e+47\n"
     ]
    }
   ],
   "source": [
    "d = 1000/5.5027\n",
    "f = 3.66e-11\n",
    "print(flx2lum(f,d))\n",
    "\n",
    "f = 1e-11\n",
    "d = Planck18.luminosity_distance(2.597000).value * 1e6\n",
    "print(flx2lum(f,d))\n",
    "\n"
   ]
  },
  {
   "cell_type": "markdown",
   "metadata": {},
   "source": [
    "## Plot SED of EP and multiwavelength data"
   ]
  },
  {
   "cell_type": "markdown",
   "metadata": {},
   "source": [
    "## SBO"
   ]
  },
  {
   "cell_type": "code",
   "execution_count": 21,
   "metadata": {},
   "outputs": [
    {
     "data": {
      "text/html": [
       "<div><i>Table length=1082</i>\n",
       "<table id=\"table5924436176\" class=\"table-striped table-bordered table-condensed\">\n",
       "<thead><tr><th>oid</th><th>expid</th><th>hjd</th><th>mjd</th><th>mag</th><th>magerr</th><th>catflags</th><th>filtercode</th><th>ra</th><th>dec</th><th>chi</th><th>sharp</th><th>filefracday</th><th>field</th><th>ccdid</th><th>qid</th><th>limitmag</th><th>magzp</th><th>magzprms</th><th>clrcoeff</th><th>clrcounc</th><th>exptime</th><th>airmass</th><th>programid</th></tr></thead>\n",
       "<thead><tr><th></th><th></th><th>d</th><th>d</th><th>mag</th><th>mag</th><th></th><th></th><th>deg</th><th>deg</th><th></th><th></th><th></th><th></th><th></th><th></th><th>mag</th><th>mag</th><th>mag</th><th></th><th></th><th>s</th><th></th><th></th></tr></thead>\n",
       "<thead><tr><th>int64</th><th>int32</th><th>float64</th><th>float64</th><th>float32</th><th>float32</th><th>int32</th><th>object</th><th>float64</th><th>float64</th><th>float32</th><th>float32</th><th>int64</th><th>int32</th><th>uint8</th><th>uint8</th><th>float32</th><th>float32</th><th>float32</th><th>float32</th><th>float32</th><th>float32</th><th>float32</th><th>int32</th></tr></thead>\n",
       "<tr><td>776206400016063</td><td>52448103</td><td>2458278.9767788886</td><td>58278.4810301</td><td>17.637304</td><td>0.02268365</td><td>0</td><td>zr</td><td>41.0124872</td><td>53.4745103</td><td>1.03</td><td>0.14</td><td>20180609480394</td><td>776</td><td>6</td><td>4</td><td>19.09</td><td>26.219074</td><td>0.0203123</td><td>0.06642518</td><td>9.543806e-06</td><td>30.0</td><td>2.024</td><td>1</td></tr>\n",
       "<tr><td>776206400016063</td><td>52748047</td><td>2458281.9763161982</td><td>58281.4804745</td><td>17.700039</td><td>0.02346613</td><td>0</td><td>zr</td><td>41.0124798</td><td>53.4746302</td><td>1.055</td><td>0.048</td><td>20180612479977</td><td>776</td><td>6</td><td>4</td><td>19.38</td><td>26.274462</td><td>0.018475547</td><td>0.07393416</td><td>7.965479e-06</td><td>30.0</td><td>1.935</td><td>1</td></tr>\n",
       "<tr><td>776206400016063</td><td>52947188</td><td>2458283.967796108</td><td>58283.4718866</td><td>17.597656</td><td>0.022214932</td><td>0</td><td>zr</td><td>41.0125244</td><td>53.4746074</td><td>1.136</td><td>0.01</td><td>20180614471875</td><td>776</td><td>6</td><td>4</td><td>19.98</td><td>26.240608</td><td>0.017900819</td><td>0.07840789</td><td>7.4509976e-06</td><td>30.0</td><td>1.971</td><td>1</td></tr>\n",
       "<tr><td>776206400016063</td><td>53347659</td><td>2458287.972657532</td><td>58287.4765972</td><td>17.59562</td><td>0.022191372</td><td>0</td><td>zr</td><td>41.0125713</td><td>53.4745846</td><td>1.488</td><td>-0.043</td><td>20180618476586</td><td>776</td><td>6</td><td>4</td><td>19.54</td><td>26.274858</td><td>0.018037869</td><td>0.07734203</td><td>7.594909e-06</td><td>30.0</td><td>1.805</td><td>1</td></tr>\n",
       "<tr><td>776206400016063</td><td>53446780</td><td>2458288.963901455</td><td>58288.4678009</td><td>17.611832</td><td>0.022380272</td><td>0</td><td>zr</td><td>41.0126379</td><td>53.4744892</td><td>2.147</td><td>0.063</td><td>20180619467789</td><td>776</td><td>6</td><td>4</td><td>20.01</td><td>26.237202</td><td>0.017170142</td><td>0.093415596</td><td>6.830708e-06</td><td>30.0</td><td>1.866</td><td>1</td></tr>\n",
       "<tr><td>776206400016063</td><td>53547468</td><td>2458289.9708300894</td><td>58289.4746875</td><td>17.77782</td><td>0.02450927</td><td>0</td><td>zr</td><td>41.0125969</td><td>53.4745846</td><td>3.841</td><td>0.261</td><td>20180620474676</td><td>776</td><td>6</td><td>4</td><td>20.28</td><td>26.268808</td><td>0.013118421</td><td>0.08424545</td><td>4.039758e-06</td><td>30.0</td><td>1.772</td><td>1</td></tr>\n",
       "<tr><td>776206400016063</td><td>54343079</td><td>2458297.9273125064</td><td>58297.4307986</td><td>17.644812</td><td>0.022774626</td><td>0</td><td>zr</td><td>41.012549</td><td>53.4745499</td><td>0.986</td><td>0.058</td><td>20180628430787</td><td>776</td><td>6</td><td>4</td><td>19.36</td><td>26.237797</td><td>0.01810784</td><td>0.07447087</td><td>7.638561e-06</td><td>30.0</td><td>2.007</td><td>1</td></tr>\n",
       "<tr><td>776206400016063</td><td>54445098</td><td>2458298.9475501766</td><td>58298.4509838</td><td>17.638935</td><td>0.022703355</td><td>0</td><td>zr</td><td>41.0125799</td><td>53.4745207</td><td>1.641</td><td>0.09</td><td>20180629450972</td><td>776</td><td>6</td><td>4</td><td>19.58</td><td>26.208164</td><td>0.016406612</td><td>0.08931388</td><td>6.3082357e-06</td><td>30.0</td><td>1.765</td><td>1</td></tr>\n",
       "<tr><td>776206400016063</td><td>54542395</td><td>2458299.9205756625</td><td>58299.4239583</td><td>17.91207</td><td>0.026514571</td><td>0</td><td>zr</td><td>41.0126676</td><td>53.4745165</td><td>2.248</td><td>0.289</td><td>20180630423854</td><td>776</td><td>6</td><td>4</td><td>20.02</td><td>26.159508</td><td>0.014726245</td><td>0.08683751</td><td>5.0288395e-06</td><td>30.0</td><td>2.024</td><td>1</td></tr>\n",
       "<tr><td>...</td><td>...</td><td>...</td><td>...</td><td>...</td><td>...</td><td>...</td><td>...</td><td>...</td><td>...</td><td>...</td><td>...</td><td>...</td><td>...</td><td>...</td><td>...</td><td>...</td><td>...</td><td>...</td><td>...</td><td>...</td><td>...</td><td>...</td><td>...</td></tr>\n",
       "<tr><td>1778215400053029</td><td>272646497</td><td>2460480.9610967147</td><td>60480.4649769</td><td>17.706945</td><td>0.021813378</td><td>0</td><td>zr</td><td>41.0125979</td><td>53.4744991</td><td>4.761</td><td>0.499</td><td>20240619464965</td><td>1778</td><td>15</td><td>4</td><td>20.8</td><td>26.156944</td><td>0.016830591</td><td>0.07631119</td><td>6.3996195e-06</td><td>30.0</td><td>2.041</td><td>1</td></tr>\n",
       "<tr><td>1778215400053029</td><td>272646848</td><td>2460480.9646037687</td><td>60480.4684838</td><td>17.771917</td><td>0.022637332</td><td>0</td><td>zr</td><td>41.0125375</td><td>53.4745969</td><td>4.349</td><td>0.48</td><td>20240619468472</td><td>1778</td><td>15</td><td>4</td><td>20.63</td><td>26.16198</td><td>0.016203081</td><td>0.07880655</td><td>5.8176915e-06</td><td>30.0</td><td>1.995</td><td>1</td></tr>\n",
       "<tr><td>1778215400053029</td><td>272647199</td><td>2460480.9681108156</td><td>60480.4719907</td><td>17.710491</td><td>0.021857094</td><td>0</td><td>zr</td><td>41.0125664</td><td>53.4745716</td><td>4.461</td><td>0.532</td><td>20240619471968</td><td>1778</td><td>15</td><td>4</td><td>20.62</td><td>26.160555</td><td>0.014265095</td><td>0.0858291</td><td>4.5880315e-06</td><td>30.0</td><td>1.951</td><td>1</td></tr>\n",
       "<tr><td>1778215400053029</td><td>273046468</td><td>2460484.9609828866</td><td>60484.4646875</td><td>17.8535</td><td>0.023743235</td><td>0</td><td>zr</td><td>41.0126321</td><td>53.4745263</td><td>3.239</td><td>0.356</td><td>20240623464641</td><td>1778</td><td>15</td><td>4</td><td>19.99</td><td>26.202122</td><td>0.019547954</td><td>0.08122784</td><td>8.584928e-06</td><td>30.0</td><td>1.908</td><td>1</td></tr>\n",
       "<tr><td>1778215400053029</td><td>273046660</td><td>2460484.962904279</td><td>60484.4666088</td><td>17.80793</td><td>0.02311544</td><td>0</td><td>zr</td><td>41.0125826</td><td>53.4745415</td><td>3.168</td><td>0.421</td><td>20240623466562</td><td>1778</td><td>15</td><td>4</td><td>20.01</td><td>26.209513</td><td>0.020025717</td><td>0.080607675</td><td>8.972996e-06</td><td>30.0</td><td>1.886</td><td>1</td></tr>\n",
       "<tr><td>1778215400053029</td><td>273046906</td><td>2460484.965358097</td><td>60484.4690625</td><td>17.890804</td><td>0.024276776</td><td>0</td><td>zr</td><td>41.0125459</td><td>53.4745893</td><td>3.338</td><td>0.409</td><td>20240623469016</td><td>1778</td><td>15</td><td>4</td><td>20.06</td><td>26.209414</td><td>0.016424272</td><td>0.07567227</td><td>6.03362e-06</td><td>30.0</td><td>1.859</td><td>1</td></tr>\n",
       "<tr><td>1778215400053029</td><td>273146508</td><td>2460485.961423051</td><td>60485.465081</td><td>17.781326</td><td>0.022760745</td><td>0</td><td>zr</td><td>41.0126333</td><td>53.4745303</td><td>3.327</td><td>0.421</td><td>20240624465035</td><td>1778</td><td>15</td><td>4</td><td>20.22</td><td>26.174753</td><td>0.016468754</td><td>0.07889985</td><td>6.16013e-06</td><td>30.0</td><td>1.873</td><td>1</td></tr>\n",
       "<tr><td>1778215400053029</td><td>273146799</td><td>2460485.9643398942</td><td>60485.4679977</td><td>17.892849</td><td>0.02430654</td><td>0</td><td>zr</td><td>41.0125947</td><td>53.4746143</td><td>3.407</td><td>0.395</td><td>20240624467951</td><td>1778</td><td>15</td><td>4</td><td>20.19</td><td>26.182335</td><td>0.016700136</td><td>0.08218531</td><td>6.3222597e-06</td><td>30.0</td><td>1.841</td><td>1</td></tr>\n",
       "<tr><td>1778215400053029</td><td>273147197</td><td>2460485.9683215832</td><td>60485.4719792</td><td>17.915956</td><td>0.024646793</td><td>0</td><td>zr</td><td>41.0125869</td><td>53.4745028</td><td>2.872</td><td>0.408</td><td>20240624471933</td><td>1778</td><td>15</td><td>4</td><td>20.14</td><td>26.196508</td><td>0.016819509</td><td>0.08197806</td><td>6.2877252e-06</td><td>30.0</td><td>1.799</td><td>1</td></tr>\n",
       "</table></div>"
      ],
      "text/plain": [
       "<Table length=1082>\n",
       "      oid          expid          hjd         ... exptime airmass programid\n",
       "                                   d          ...    s                     \n",
       "     int64         int32        float64       ... float32 float32   int32  \n",
       "---------------- --------- ------------------ ... ------- ------- ---------\n",
       " 776206400016063  52448103 2458278.9767788886 ...    30.0   2.024         1\n",
       " 776206400016063  52748047 2458281.9763161982 ...    30.0   1.935         1\n",
       " 776206400016063  52947188  2458283.967796108 ...    30.0   1.971         1\n",
       " 776206400016063  53347659  2458287.972657532 ...    30.0   1.805         1\n",
       " 776206400016063  53446780  2458288.963901455 ...    30.0   1.866         1\n",
       " 776206400016063  53547468 2458289.9708300894 ...    30.0   1.772         1\n",
       " 776206400016063  54343079 2458297.9273125064 ...    30.0   2.007         1\n",
       " 776206400016063  54445098 2458298.9475501766 ...    30.0   1.765         1\n",
       " 776206400016063  54542395 2458299.9205756625 ...    30.0   2.024         1\n",
       "             ...       ...                ... ...     ...     ...       ...\n",
       "1778215400053029 272646497 2460480.9610967147 ...    30.0   2.041         1\n",
       "1778215400053029 272646848 2460480.9646037687 ...    30.0   1.995         1\n",
       "1778215400053029 272647199 2460480.9681108156 ...    30.0   1.951         1\n",
       "1778215400053029 273046468 2460484.9609828866 ...    30.0   1.908         1\n",
       "1778215400053029 273046660  2460484.962904279 ...    30.0   1.886         1\n",
       "1778215400053029 273046906  2460484.965358097 ...    30.0   1.859         1\n",
       "1778215400053029 273146508  2460485.961423051 ...    30.0   1.873         1\n",
       "1778215400053029 273146799 2460485.9643398942 ...    30.0   1.841         1\n",
       "1778215400053029 273147197 2460485.9683215832 ...    30.0   1.799         1"
      ]
     },
     "execution_count": 21,
     "metadata": {},
     "output_type": "execute_result"
    }
   ],
   "source": [
    "ra, dec = 41.0129,\t53.4745\n",
    "cros = EPTools.Crossmatch()\n",
    "data = cros.ztf_lc('%s %s'%(ra,dec),band='r',match_rad=1)\n",
    "data"
   ]
  },
  {
   "cell_type": "code",
   "execution_count": 22,
   "metadata": {},
   "outputs": [
    {
     "data": {
      "text/plain": [
       "<matplotlib.lines.Line2D at 0x162066890>"
      ]
     },
     "execution_count": 22,
     "metadata": {},
     "output_type": "execute_result"
    },
    {
     "data": {
      "image/png": "[encoded data removed]",
      "text/plain": [
       "<Figure size 640x480 with 1 Axes>"
      ]
     },
     "metadata": {},
     "output_type": "display_data"
    }
   ],
   "source": [
    "from astropy.time import Time\n",
    "t_now = Time.now()\n",
    "for oid in np.unique(data['oid']):\n",
    "    mjd = data[data['oid']==oid]['mjd']\n",
    "    mag = data[data['oid']==oid]['mag']\n",
    "    plt.plot(mjd,mag,'.')\n",
    "    plt.ylim([20,17])\n",
    "plt.axvline(t_now.mjd,color='r',ls='--')"
   ]
  }
 ],
 "metadata": {
  "kernelspec": {
   "display_name": "base",
   "language": "python",
   "name": "python3"
  },
  "language_info": {
   "codemirror_mode": {
    "name": "ipython",
    "version": 3
   },
   "file_extension": ".py",
   "mimetype": "text/x-python",
   "name": "python",
   "nbconvert_exporter": "python",
   "pygments_lexer": "ipython3",
   "version": "3.11.8"
  }
 },
 "nbformat": 4,
 "nbformat_minor": 2
}
