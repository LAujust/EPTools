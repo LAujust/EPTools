{
 "cells": [
  {
   "cell_type": "markdown",
   "metadata": {},
   "source": [
    "# Examples for EPTools\n",
    "@copyright by Runduo Liang (Aujust)"
   ]
  },
  {
   "cell_type": "markdown",
   "metadata": {},
   "source": [
    "## Crossmatch"
   ]
  },
  {
   "cell_type": "code",
   "execution_count": 2,
   "metadata": {},
   "outputs": [],
   "source": [
    "import EPTools\n",
    "from astropy.cosmology import Planck18"
   ]
  },
  {
   "cell_type": "code",
   "execution_count": 2,
   "metadata": {},
   "outputs": [
    {
     "name": "stdout",
     "output_type": "stream",
     "text": [
      "2.4677695847969117e-14\n",
      "2.4677695847969117e-14\n"
     ]
    }
   ],
   "source": [
    "flx = EPTools.utils.mag2flx(21.1)\n",
    "delta_nu = EPTools.utils.lam2Hz(6396-1230) - EPTools.utils.lam2Hz(6396+1230)\n",
    "print(delta_nu * flx)\n",
    "print(EPTools.utils.mag2flx(21.1,6396,1230))"
   ]
  },
  {
   "cell_type": "code",
   "execution_count": 4,
   "metadata": {},
   "outputs": [
    {
     "name": "stdout",
     "output_type": "stream",
     "text": [
      "8.608951776806629e+46\n"
     ]
    }
   ],
   "source": [
    "import EPTools.utils\n",
    "\n",
    "\n",
    "z = 0.75\n",
    "xflx = 10**(-10.5)\n",
    "dL = Planck18.luminosity_distance(z).value * 1e6 #Mpc\n",
    "\n",
    "print(EPTools.utils.flx2lum(xflx,dL))"
   ]
  }
 ],
 "metadata": {
  "kernelspec": {
   "display_name": "Python 3",
   "language": "python",
   "name": "python3"
  },
  "language_info": {
   "codemirror_mode": {
    "name": "ipython",
    "version": 3
   },
   "file_extension": ".py",
   "mimetype": "text/x-python",
   "name": "python",
   "nbconvert_exporter": "python",
   "pygments_lexer": "ipython3",
   "version": "3.12.4"
  }
 },
 "nbformat": 4,
 "nbformat_minor": 2
}
