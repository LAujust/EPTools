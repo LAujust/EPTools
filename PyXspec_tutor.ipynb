{
 "cells": [
  {
   "cell_type": "markdown",
   "metadata": {},
   "source": [
    "# PyXspec"
   ]
  },
  {
   "cell_type": "code",
   "execution_count": 1,
   "metadata": {},
   "outputs": [
    {
     "name": "stderr",
     "output_type": "stream",
     "text": [
      "/Users/liangrunduo/miniconda3/lib/python3.11/site-packages/tqdm/auto.py:21: TqdmWarning: IProgress not found. Please update jupyter and ipywidgets. See https://ipywidgets.readthedocs.io/en/stable/user_install.html\n",
      "  from .autonotebook import tqdm as notebook_tqdm\n"
     ]
    },
    {
     "name": "stdout",
     "output_type": "stream",
     "text": [
      " %PGPLOT, Unable to read font file: grfont.dat\n",
      " %PGPLOT, Use environment variable PGPLOT_FONT to specify the location of the PGPLOT grfont.dat file.\n"
     ]
    }
   ],
   "source": [
    "import EPTools\n",
    "from astropy.coordinates import SkyCoord\n",
    "from EPTools.utils import *\n",
    "import numpy as np\n",
    "from astropy.cosmology import Planck18\n",
    "import matplotlib.pyplot as plt\n",
    "import sys, os\n",
    "sys.path.append('$HEADAS/lib/python')\n",
    "from xspec import *"
   ]
  },
  {
   "cell_type": "code",
   "execution_count": 2,
   "metadata": {},
   "outputs": [
    {
     "name": "stdout",
     "output_type": "stream",
     "text": [
      "\n",
      "1 spectrum  in use\n",
      " \n",
      "Spectral Data File: /Users/liangrunduo/Desktop/Aujust/NAOC/EP/EPTools/PC.pi  Spectrum 1\n",
      "Net count rate (cts/s) for Spectrum:1  8.658e-03 +/- 1.189e-03\n",
      " Assigned to Data Group 1 and Plot Group 1\n",
      "  Noticed Channels:  1-335\n",
      "  Telescope: EP Instrument: FXT  Channel Type: PI\n",
      "  Exposure Time: 6122 sec\n",
      " Using fit statistic: chi\n",
      " Using Response (RMF) File            fxt_a_06800000181_ff_01_po_src_1_3db_0401.rmf for Source 1\n",
      " Using Auxiliary Response (ARF) File  fxt_a_06800000181_ff_01_po_src_1_3db_0401.arf\n",
      "\n",
      "     4 channels (1-4) ignored in spectrum #     1\n",
      "    99 channels (237-335) ignored in spectrum #     1\n",
      "\n",
      "\n",
      "ignore:   285 channels ignored from  source number 1\n"
     ]
    }
   ],
   "source": [
    "root_dir = '/Users/liangrunduo/Desktop/Aujust/NAOC/EP/EPTools/'\n",
    "s1 = Spectrum(root_dir+'PC.pi')\n",
    "s1.ignore(\"0.0-0.5 10.0-**\")\n",
    "AllData.ignore(\"bad\")"
   ]
  },
  {
   "cell_type": "code",
   "execution_count": null,
   "metadata": {},
   "outputs": [
    {
     "name": "stdout",
     "output_type": "stream",
     "text": [
      "\n",
      "========================================================================\n",
      "Model TBabs<1>*cflux<2>*powerlaw<3> Source No.: 1   Active/On\n",
      "Model Model Component  Parameter  Unit     Value\n",
      " par  comp\n",
      "   1    1   TBabs      nH         10^22    1.00000      +/-  0.0          \n",
      "   2    2   cflux      Emin       keV      0.500000     frozen\n",
      "   3    2   cflux      Emax       keV      10.0000      frozen\n",
      "   4    2   cflux      lg10Flux   cgs      -12.0000     +/-  0.0          \n",
      "   5    3   powerlaw   PhoIndex            1.00000      +/-  0.0          \n",
      "   6    3   powerlaw   norm                1.00000      +/-  0.0          \n",
      "________________________________________________________________________\n",
      "\n",
      "tbvabs Version 2.3\n",
      "Cosmic absorption with grains and H2, modified from\n",
      "Wilms, Allen, & McCray, 2000, ApJ 542, 914-924\n",
      "Questions: Joern Wilms\n",
      "joern.wilms@sternwarte.uni-erlangen.de\n",
      "joern.wilms@fau.de\n",
      "\n",
      "http://pulsar.sternwarte.uni-erlangen.de/wilms/research/tbabs/\n",
      "\n",
      "PLEASE NOTICE:\n",
      "To get the model described by the above paper\n",
      "you will also have to set the abundances:\n",
      "   abund wilm\n",
      "\n",
      "Note that this routine ignores the current cross section setting\n",
      "as it always HAS to use the Verner cross sections as a baseline.\n",
      "\n",
      "Fit statistic  : Chi-Squared                  198.41     using 47 bins.\n",
      "\n",
      "Test statistic : Chi-Squared                  198.41     using 47 bins.\n",
      " Null hypothesis probability of 7.94e-22 with 43 degrees of freedom\n",
      " Current data and model not fit yet.\n"
     ]
    },
    {
     "ename": "AttributeError",
     "evalue": "'FitManager' object has no attribute 'setPars'",
     "output_type": "error",
     "traceback": [
      "\u001b[0;31m---------------------------------------------------------------------------\u001b[0m",
      "\u001b[0;31mAttributeError\u001b[0m                            Traceback (most recent call last)",
      "Cell \u001b[0;32mIn[3], line 2\u001b[0m\n\u001b[1;32m      1\u001b[0m m \u001b[38;5;241m=\u001b[39m Model(\u001b[38;5;124m'\u001b[39m\u001b[38;5;124mtbabs*cflux*powerlaw\u001b[39m\u001b[38;5;124m'\u001b[39m)\n\u001b[0;32m----> 2\u001b[0m \u001b[43mFit\u001b[49m\u001b[38;5;241;43m.\u001b[39;49m\u001b[43msetPars\u001b[49m({\u001b[38;5;241m1\u001b[39m:\u001b[38;5;241m0.05\u001b[39m,\u001b[38;5;241m6\u001b[39m:\u001b[38;5;241m1\u001b[39m})\n\u001b[1;32m      3\u001b[0m Fit\u001b[38;5;241m.\u001b[39mperform()\n\u001b[1;32m      4\u001b[0m Plot\u001b[38;5;241m.\u001b[39mdevice \u001b[38;5;241m=\u001b[39m \u001b[38;5;124m'\u001b[39m\u001b[38;5;124m/null\u001b[39m\u001b[38;5;124m'\u001b[39m\n",
      "\u001b[0;31mAttributeError\u001b[0m: 'FitManager' object has no attribute 'setPars'"
     ]
    }
   ],
   "source": [
    "m = Model('tbabs*cflux*powerlaw')\n",
    "m.setPars({1:0.05,6:1})\n",
    "Fit.perform()\n",
    "Plot.device = '/null'\n",
    "Plot('data')\n",
    "# Get coordinates from plot:\n",
    "chans = Plot.x()\n",
    "rates = Plot.y()\n",
    "folded = Plot.model()\n",
    "\n",
    "# Plot using Matplotlib:\n",
    "plt.plot(chans, rates, 'ro', chans, folded)\n",
    "plt.xlabel('channels')\n",
    "plt.ylabel('counts/cm^2/sec/chan')\n",
    "plt.savefig('myplot')\n"
   ]
  }
 ],
 "metadata": {
  "kernelspec": {
   "display_name": "base",
   "language": "python",
   "name": "python3"
  },
  "language_info": {
   "codemirror_mode": {
    "name": "ipython",
    "version": 3
   },
   "file_extension": ".py",
   "mimetype": "text/x-python",
   "name": "python",
   "nbconvert_exporter": "python",
   "pygments_lexer": "ipython3",
   "version": "3.11.8"
  }
 },
 "nbformat": 4,
 "nbformat_minor": 2
}
