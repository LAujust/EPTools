{
 "cells": [
  {
   "cell_type": "markdown",
   "metadata": {},
   "source": [
    "# Examples for EPTools\n",
    "@copyright by Runduo Liang (Aujust)"
   ]
  },
  {
   "cell_type": "markdown",
   "metadata": {},
   "source": [
    "## Crossmatch"
   ]
  },
  {
   "cell_type": "code",
   "execution_count": 15,
   "metadata": {},
   "outputs": [],
   "source": [
    "import EPTools\n",
    "from astropy.cosmology import Planck18\n",
    "from astropy.coordinates import SkyCoord\n",
    "import EPTools.utils"
   ]
  },
  {
   "cell_type": "code",
   "execution_count": 17,
   "metadata": {},
   "outputs": [
    {
     "name": "stdout",
     "output_type": "stream",
     "text": [
      "lum: 4.330333114875513e+43 erg/s\n"
     ]
    }
   ],
   "source": [
    "f = 2e-12\n",
    "\n",
    "dL = Planck18.luminosity_distance(0.09).value * 1e6\n",
    "\n",
    "print('lum: {} erg/s'.format(EPTools.utils.flx2lum(f,dL)))"
   ]
  },
  {
   "cell_type": "code",
   "execution_count": 12,
   "metadata": {},
   "outputs": [
    {
     "name": "stdout",
     "output_type": "stream",
     "text": [
      "Welcome to ASAS-SN Skypatrol!\n",
      "\n",
      "Current Deployment Version: 0.6.17 (26 JAN 2024)\n",
      "Please upgrade your client if not up to date.\n",
      "\n",
      "<No columns>\n"
     ]
    },
    {
     "name": "stderr",
     "output_type": "stream",
     "text": [
      "WARNING: NoResultsWarning: No matching rows were found in the query. [astroquery.heasarc.core]\n"
     ]
    }
   ],
   "source": [
    "crossmatch = EPTools.Crossmatch()\n",
    "\n",
    "pos = '11h44m03.1835850144s +05d47m44.014153920s'\n",
    "\n",
    "data = crossmatch.xmm_archive(pos)\n",
    "print(data)"
   ]
  }
 ],
 "metadata": {
  "kernelspec": {
   "display_name": "Python 3",
   "language": "python",
   "name": "python3"
  },
  "language_info": {
   "codemirror_mode": {
    "name": "ipython",
    "version": 3
   },
   "file_extension": ".py",
   "mimetype": "text/x-python",
   "name": "python",
   "nbconvert_exporter": "python",
   "pygments_lexer": "ipython3",
   "version": "3.12.4"
  }
 },
 "nbformat": 4,
 "nbformat_minor": 2
}
